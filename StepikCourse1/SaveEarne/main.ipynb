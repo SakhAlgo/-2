{
 "cells": [
  {
   "cell_type": "code",
   "execution_count": 1,
   "id": "2047df03-4f98-456e-8c2c-ae0dc36ad161",
   "metadata": {},
   "outputs": [],
   "source": [
    "# import pandas as pd\n",
    "# from sklearn.ensemble import RandomForestClassifier\n",
    "# from sklearn.model_selection import GridSearchCV\n",
    "# import matplotlib.pyplot as plt"
   ]
  },
  {
   "cell_type": "code",
   "execution_count": 2,
   "id": "e9afef87-62e5-4b6f-a030-53ce85b6b79a",
   "metadata": {},
   "outputs": [],
   "source": [
    "# invasion = pd.read_csv('invasion.csv')\n",
    "# operative_information = pd.read_csv('operative_information.csv')"
   ]
  },
  {
   "cell_type": "code",
   "execution_count": null,
   "id": "af47ef55-df43-4cd0-9db2-0217fa5e4fb9",
   "metadata": {},
   "outputs": [],
   "source": [
    "import pandas as pd\n",
    "import matplotlib.pyplot as plt\n",
    "from sklearn.ensemble import RandomForestClassifier\n",
    "\n",
    "from sklearn.model_selection import GridSearchCV\n",
    "\n",
    "# 1. Считываем данные из invasion.csv\n",
    "\n",
    "data = pd.read_csv('invasion.csv')\n",
    "\n",
    "# 2. Определяем матрицу признаков X и целевую переменную y\n",
    "\n",
    "X = data.drop('class', axis=1)\n",
    "\n",
    "y = data['class']\n",
    "\n",
    "# 3. Создаем классификатор случайного леса\n",
    "\n",
    "clf = RandomForestClassifier()\n",
    "\n",
    "# 4. Задаем параметры для поиска наилучших параметров\n",
    "\n",
    "params = { 'max_depth': range(1, 21),\n",
    "\n",
    "           'min_samples_split': range(1, 14, 2),\n",
    "\n",
    "           'min_samples_leaf': range(1, 9),\n",
    "\n",
    "           'max_features': range(2, 11, 2) }\n",
    "\n",
    "# 5. Создаем объект GridSearchCV с указанными параметрами\n",
    "\n",
    "search = GridSearchCV(estimator=clf, param_grid=params, cv=3)\n",
    "\n",
    "# 6. Выполняем поиск наилучших параметров\n",
    "\n",
    "search.fit(X, y)\n",
    "\n",
    "# 7. Получаем лучшую модель после выполнения GridSearchCV\n",
    "\n",
    "# best_clf = search.best_estimator_\n",
    "\n",
    "# # 8. Считываем operative_information.csv\n",
    "\n",
    "# operative_info = pd.read_csv('operative_information.csv')\n",
    "\n",
    "# # 9. Выполняем предсказания на operative_information\n",
    "\n",
    "# y_pred = best_clf.predict(operative_info)\n",
    "\n",
    "# # 10. Выполняем подсчет количества кораблей каждого класса\n",
    "\n",
    "# ship_counts = pd.Series(y_pred).value_counts()\n",
    "\n",
    "# Выводим результаты\n",
    "\n",
    "# print(\"Число крейсеров:\", ship_counts['cruiser'])\n",
    "\n",
    "# print(\"Число транспортников:\", ship_counts['transport'])\n",
    "\n",
    "# print(\"Число истребителей:\", ship_counts['fighter'])"
   ]
  },
  {
   "cell_type": "code",
   "execution_count": null,
   "id": "69a2a139-4b29-431b-84fd-7d75af7c780a",
   "metadata": {},
   "outputs": [],
   "source": [
    "imp = pd.DataFrame(search.feature_importances_, index=X_train.columns, columns=['importance'])\n",
    "imp.sort_values('importance').plot(kind='barh', figsize=(12, 8))\n",
    "plt.show()"
   ]
  },
  {
   "cell_type": "code",
   "execution_count": 16,
   "id": "6035f6b3-4564-4aed-92e8-8f1af0972e43",
   "metadata": {},
   "outputs": [
    {
     "name": "stderr",
     "output_type": "stream",
     "text": [
      "UsageError: Line magic function `%%timeit` not found.\n"
     ]
    }
   ],
   "source": [
    "\n",
    "# import numpy as nm\n",
    "# import timeit\n",
    "df = pd.DataFrame(range(10000000))\n",
    "\n",
    "%%timeit df.apply(np.mean)\n",
    "\n",
    "%%timeit df.apply('mean')\n",
    "\n",
    "%%timeit df.describe().loc['mean']\n",
    "\n",
    "%%timeit df.mean(axis=0)"
   ]
  },
  {
   "cell_type": "code",
   "execution_count": null,
   "id": "c763f2e5-dab3-4814-8fb9-9a4afc92a7e2",
   "metadata": {},
   "outputs": [],
   "source": []
  }
 ],
 "metadata": {
  "kernelspec": {
   "display_name": "Python 3 (ipykernel)",
   "language": "python",
   "name": "python3"
  },
  "language_info": {
   "codemirror_mode": {
    "name": "ipython",
    "version": 3
   },
   "file_extension": ".py",
   "mimetype": "text/x-python",
   "name": "python",
   "nbconvert_exporter": "python",
   "pygments_lexer": "ipython3",
   "version": "3.12.2"
  }
 },
 "nbformat": 4,
 "nbformat_minor": 5
}
